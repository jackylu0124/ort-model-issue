{
 "cells": [
  {
   "cell_type": "code",
   "execution_count": null,
   "metadata": {},
   "outputs": [],
   "source": [
    "import torch\n",
    "import torch.nn as nn\n",
    "import numpy as np"
   ]
  },
  {
   "cell_type": "code",
   "execution_count": null,
   "metadata": {},
   "outputs": [],
   "source": [
    "class FindCountOfThree(nn.Module):\n",
    "    def __init__(self):\n",
    "        super().__init__()\n",
    "\n",
    "    def forward(self, x):\n",
    "        return torch.sum((x==3).to(torch.int32)).to(torch.int32)"
   ]
  },
  {
   "cell_type": "code",
   "execution_count": null,
   "metadata": {},
   "outputs": [],
   "source": [
    "onnx_path = \"onnx_models/FindCountOfThree_v001.onnx\"\n",
    "\n",
    "x = torch.floor(torch.rand(1, 3, 256, 256)*10).to(torch.int32)\n",
    "\n",
    "model = FindCountOfThree()\n",
    "\n",
    "print(model(x))\n",
    "\n",
    "torch.onnx.export(model,\n",
    "                  x,\n",
    "                  onnx_path,\n",
    "                  export_params=True,\n",
    "                  opset_version=14,\n",
    "                  input_names = [\"input\"],\n",
    "                  output_names = [\"count\"],\n",
    "                  dynamic_axes={\"input\": [1, 2, 3]},\n",
    "                  do_constant_folding=True)"
   ]
  }
 ],
 "metadata": {
  "kernelspec": {
   "display_name": "Python 3.9.12 64-bit",
   "language": "python",
   "name": "python3"
  },
  "language_info": {
   "codemirror_mode": {
    "name": "ipython",
    "version": 3
   },
   "file_extension": ".py",
   "mimetype": "text/x-python",
   "name": "python",
   "nbconvert_exporter": "python",
   "pygments_lexer": "ipython3",
   "version": "3.9.12"
  },
  "orig_nbformat": 4,
  "vscode": {
   "interpreter": {
    "hash": "1eed91afb51f0ffacadc1f53d163f0a49d2006e1201a429bef6ed9d70525a213"
   }
  }
 },
 "nbformat": 4,
 "nbformat_minor": 2
}
